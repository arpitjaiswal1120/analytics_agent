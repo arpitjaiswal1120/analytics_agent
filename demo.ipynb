{
 "cells": [
  {
   "cell_type": "code",
   "execution_count": null,
   "id": "499c1b96",
   "metadata": {},
   "outputs": [],
   "source": [
    "from analytics_agent import build_graph, run_analytics"
   ]
  },
  {
   "cell_type": "code",
   "execution_count": null,
   "id": "1fdaead0",
   "metadata": {},
   "outputs": [],
   "source": [
    "from IPython.display import Image, display\n",
    "app = build_graph()\n",
    "display(Image(app.get_graph().draw_mermaid_png()))"
   ]
  },
  {
   "cell_type": "code",
   "execution_count": null,
   "id": "5be5feac",
   "metadata": {},
   "outputs": [],
   "source": [
    "\n",
    "q = \"show me trend analysis of different products for this year\"\n",
    "out = run_analytics(q)\n",
    "print(\"Final state keys:\", list(out.keys()))\n",
    "print(\"Image:\", out.get(\"image_path\"))\n"
   ]
  },
  {
   "cell_type": "code",
   "execution_count": null,
   "id": "95466a86",
   "metadata": {},
   "outputs": [],
   "source": [
    "from PIL import Image as IMG\n",
    "IMG.open(out.get(\"image_path\")).show()"
   ]
  },
  {
   "cell_type": "code",
   "execution_count": null,
   "id": "db6c26ee",
   "metadata": {},
   "outputs": [],
   "source": []
  }
 ],
 "metadata": {
  "kernelspec": {
   "display_name": "venv",
   "language": "python",
   "name": "python3"
  },
  "language_info": {
   "codemirror_mode": {
    "name": "ipython",
    "version": 3
   },
   "file_extension": ".py",
   "mimetype": "text/x-python",
   "name": "python",
   "nbconvert_exporter": "python",
   "pygments_lexer": "ipython3",
   "version": "3.12.10"
  }
 },
 "nbformat": 4,
 "nbformat_minor": 5
}
